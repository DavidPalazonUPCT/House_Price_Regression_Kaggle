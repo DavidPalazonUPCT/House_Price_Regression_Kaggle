{
 "cells": [
  {
   "cell_type": "code",
   "execution_count": 8,
   "metadata": {},
   "outputs": [
    {
     "data": {
      "text/html": [
       "<div>\n",
       "<style scoped>\n",
       "    .dataframe tbody tr th:only-of-type {\n",
       "        vertical-align: middle;\n",
       "    }\n",
       "\n",
       "    .dataframe tbody tr th {\n",
       "        vertical-align: top;\n",
       "    }\n",
       "\n",
       "    .dataframe thead th {\n",
       "        text-align: right;\n",
       "    }\n",
       "</style>\n",
       "<table border=\"1\" class=\"dataframe\">\n",
       "  <thead>\n",
       "    <tr style=\"text-align: right;\">\n",
       "      <th></th>\n",
       "      <th>Id</th>\n",
       "      <th>MSSubClass</th>\n",
       "      <th>MSZoning</th>\n",
       "      <th>LotFrontage</th>\n",
       "      <th>LotArea</th>\n",
       "      <th>Street</th>\n",
       "      <th>Alley</th>\n",
       "      <th>LotShape</th>\n",
       "      <th>LandContour</th>\n",
       "      <th>Utilities</th>\n",
       "      <th>...</th>\n",
       "      <th>PoolArea</th>\n",
       "      <th>PoolQC</th>\n",
       "      <th>Fence</th>\n",
       "      <th>MiscFeature</th>\n",
       "      <th>MiscVal</th>\n",
       "      <th>MoSold</th>\n",
       "      <th>YrSold</th>\n",
       "      <th>SaleType</th>\n",
       "      <th>SaleCondition</th>\n",
       "      <th>SalePrice</th>\n",
       "    </tr>\n",
       "  </thead>\n",
       "  <tbody>\n",
       "    <tr>\n",
       "      <th>0</th>\n",
       "      <td>1</td>\n",
       "      <td>60</td>\n",
       "      <td>RL</td>\n",
       "      <td>65.0</td>\n",
       "      <td>8450</td>\n",
       "      <td>Pave</td>\n",
       "      <td>NaN</td>\n",
       "      <td>Reg</td>\n",
       "      <td>Lvl</td>\n",
       "      <td>AllPub</td>\n",
       "      <td>...</td>\n",
       "      <td>0</td>\n",
       "      <td>NaN</td>\n",
       "      <td>NaN</td>\n",
       "      <td>NaN</td>\n",
       "      <td>0</td>\n",
       "      <td>2</td>\n",
       "      <td>2008</td>\n",
       "      <td>WD</td>\n",
       "      <td>Normal</td>\n",
       "      <td>208500</td>\n",
       "    </tr>\n",
       "    <tr>\n",
       "      <th>1</th>\n",
       "      <td>2</td>\n",
       "      <td>20</td>\n",
       "      <td>RL</td>\n",
       "      <td>80.0</td>\n",
       "      <td>9600</td>\n",
       "      <td>Pave</td>\n",
       "      <td>NaN</td>\n",
       "      <td>Reg</td>\n",
       "      <td>Lvl</td>\n",
       "      <td>AllPub</td>\n",
       "      <td>...</td>\n",
       "      <td>0</td>\n",
       "      <td>NaN</td>\n",
       "      <td>NaN</td>\n",
       "      <td>NaN</td>\n",
       "      <td>0</td>\n",
       "      <td>5</td>\n",
       "      <td>2007</td>\n",
       "      <td>WD</td>\n",
       "      <td>Normal</td>\n",
       "      <td>181500</td>\n",
       "    </tr>\n",
       "    <tr>\n",
       "      <th>2</th>\n",
       "      <td>3</td>\n",
       "      <td>60</td>\n",
       "      <td>RL</td>\n",
       "      <td>68.0</td>\n",
       "      <td>11250</td>\n",
       "      <td>Pave</td>\n",
       "      <td>NaN</td>\n",
       "      <td>IR1</td>\n",
       "      <td>Lvl</td>\n",
       "      <td>AllPub</td>\n",
       "      <td>...</td>\n",
       "      <td>0</td>\n",
       "      <td>NaN</td>\n",
       "      <td>NaN</td>\n",
       "      <td>NaN</td>\n",
       "      <td>0</td>\n",
       "      <td>9</td>\n",
       "      <td>2008</td>\n",
       "      <td>WD</td>\n",
       "      <td>Normal</td>\n",
       "      <td>223500</td>\n",
       "    </tr>\n",
       "    <tr>\n",
       "      <th>3</th>\n",
       "      <td>4</td>\n",
       "      <td>70</td>\n",
       "      <td>RL</td>\n",
       "      <td>60.0</td>\n",
       "      <td>9550</td>\n",
       "      <td>Pave</td>\n",
       "      <td>NaN</td>\n",
       "      <td>IR1</td>\n",
       "      <td>Lvl</td>\n",
       "      <td>AllPub</td>\n",
       "      <td>...</td>\n",
       "      <td>0</td>\n",
       "      <td>NaN</td>\n",
       "      <td>NaN</td>\n",
       "      <td>NaN</td>\n",
       "      <td>0</td>\n",
       "      <td>2</td>\n",
       "      <td>2006</td>\n",
       "      <td>WD</td>\n",
       "      <td>Abnorml</td>\n",
       "      <td>140000</td>\n",
       "    </tr>\n",
       "    <tr>\n",
       "      <th>4</th>\n",
       "      <td>5</td>\n",
       "      <td>60</td>\n",
       "      <td>RL</td>\n",
       "      <td>84.0</td>\n",
       "      <td>14260</td>\n",
       "      <td>Pave</td>\n",
       "      <td>NaN</td>\n",
       "      <td>IR1</td>\n",
       "      <td>Lvl</td>\n",
       "      <td>AllPub</td>\n",
       "      <td>...</td>\n",
       "      <td>0</td>\n",
       "      <td>NaN</td>\n",
       "      <td>NaN</td>\n",
       "      <td>NaN</td>\n",
       "      <td>0</td>\n",
       "      <td>12</td>\n",
       "      <td>2008</td>\n",
       "      <td>WD</td>\n",
       "      <td>Normal</td>\n",
       "      <td>250000</td>\n",
       "    </tr>\n",
       "  </tbody>\n",
       "</table>\n",
       "<p>5 rows × 81 columns</p>\n",
       "</div>"
      ],
      "text/plain": [
       "   Id  MSSubClass MSZoning  LotFrontage  LotArea Street Alley LotShape  \\\n",
       "0   1          60       RL         65.0     8450   Pave   NaN      Reg   \n",
       "1   2          20       RL         80.0     9600   Pave   NaN      Reg   \n",
       "2   3          60       RL         68.0    11250   Pave   NaN      IR1   \n",
       "3   4          70       RL         60.0     9550   Pave   NaN      IR1   \n",
       "4   5          60       RL         84.0    14260   Pave   NaN      IR1   \n",
       "\n",
       "  LandContour Utilities  ... PoolArea PoolQC Fence MiscFeature MiscVal MoSold  \\\n",
       "0         Lvl    AllPub  ...        0    NaN   NaN         NaN       0      2   \n",
       "1         Lvl    AllPub  ...        0    NaN   NaN         NaN       0      5   \n",
       "2         Lvl    AllPub  ...        0    NaN   NaN         NaN       0      9   \n",
       "3         Lvl    AllPub  ...        0    NaN   NaN         NaN       0      2   \n",
       "4         Lvl    AllPub  ...        0    NaN   NaN         NaN       0     12   \n",
       "\n",
       "  YrSold  SaleType  SaleCondition  SalePrice  \n",
       "0   2008        WD         Normal     208500  \n",
       "1   2007        WD         Normal     181500  \n",
       "2   2008        WD         Normal     223500  \n",
       "3   2006        WD        Abnorml     140000  \n",
       "4   2008        WD         Normal     250000  \n",
       "\n",
       "[5 rows x 81 columns]"
      ]
     },
     "execution_count": 8,
     "metadata": {},
     "output_type": "execute_result"
    }
   ],
   "source": [
    "# Importar las bibliotecas necesarias\n",
    "import sys\n",
    "import os\n",
    "import pandas as pd\n",
    "from sklearn.exceptions import NotFittedError\n",
    "import numpy as np\n",
    "import seaborn as sns\n",
    "import matplotlib.pyplot as plt\n",
    "\n",
    "#Configuracion de seaborn\n",
    "sns.set_theme(style='whitegrid', context='paper', palette='muted')\n",
    "\n",
    "# Agregar el directorio de scripts al path\n",
    "sys.path.append(os.path.join(os.path.dirname(os.getcwd()), 'scripts'))\n",
    "\n",
    "# Importar el logger personalizado\n",
    "from logger import CustomLogger\n",
    "\n",
    "# Inicializar el logger\n",
    "logger = CustomLogger(developer='David')\n",
    "app_logger = logger.get_logger('app')\n",
    "errors_logger = logger.get_logger('errors')\n",
    "\n",
    "try:\n",
    "    # Cargar los datos de entrenamiento\n",
    "    train_data = pd.read_csv('../data/train.csv')\n",
    "    app_logger.info(\"Conjunto de datos de entrenamiento cargado exitosamente.\")\n",
    "except FileNotFoundError:\n",
    "    errors_logger.error(\"No se pudo encontrar el archivo de datos de entrenamiento.\")\n",
    "    raise\n",
    "except Exception as e:\n",
    "    errors_logger.error(f\"Error al cargar los datos de entrenamiento: {str(e)}\")\n",
    "    raise\n",
    "\n",
    "# Cargamos test.csv\n",
    "try:\n",
    "    test_data = pd.read_csv('../data/test.csv')\n",
    "    app_logger.info(\"Conjunto de datos de test cargado exitosamente.\")\n",
    "except FileNotFoundError:\n",
    "    errors_logger.error(\"No se pudo encontrar el archivo de datos de test.\")\n",
    "    raise\n",
    "\n",
    "# Mostrar las primeras filas del conjunto de datos\n",
    "train_data.head()\n"
   ]
  },
  {
   "cell_type": "code",
   "execution_count": 2,
   "metadata": {},
   "outputs": [
    {
     "name": "stdout",
     "output_type": "stream",
     "text": [
      "Valores faltantes por columna:\n",
      "              Total  Porcentaje\n",
      "PoolQC         1453   99.520548\n",
      "MiscFeature    1406   96.301370\n",
      "Alley          1369   93.767123\n",
      "Fence          1179   80.753425\n",
      "FireplaceQu     690   47.260274\n",
      "LotFrontage     259   17.739726\n",
      "GarageType       81    5.547945\n",
      "GarageYrBlt      81    5.547945\n",
      "GarageFinish     81    5.547945\n",
      "GarageQual       81    5.547945\n",
      "GarageCond       81    5.547945\n",
      "BsmtExposure     38    2.602740\n",
      "BsmtFinType2     38    2.602740\n",
      "BsmtFinType1     37    2.534247\n",
      "BsmtCond         37    2.534247\n",
      "BsmtQual         37    2.534247\n",
      "MasVnrArea        8    0.547945\n",
      "MasVnrType        8    0.547945\n",
      "Electrical        1    0.068493\n",
      "\n",
      "Número de filas duplicadas: 0\n"
     ]
    }
   ],
   "source": [
    "# Valores faltantes\n",
    "print(\"Valores faltantes por columna:\")\n",
    "valores_faltantes = train_data.isnull().sum()\n",
    "porcentaje_faltantes = 100 * train_data.isnull().sum() / len(train_data)\n",
    "tabla_faltantes = pd.concat([valores_faltantes, porcentaje_faltantes], axis=1, keys=['Total', 'Porcentaje'])\n",
    "print(tabla_faltantes[tabla_faltantes['Total'] > 0].sort_values('Total', ascending=False))\n",
    "\n",
    "# Filas duplicadas\n",
    "filas_duplicadas = train_data.duplicated().sum()\n",
    "print(f\"\\nNúmero de filas duplicadas: {filas_duplicadas}\")\n",
    "\n",
    "# Registrar en el log\n",
    "if valores_faltantes.sum() > 0:\n",
    "    app_logger.info(f\"Se encontraron {valores_faltantes.sum()} valores faltantes en total.\")\n",
    "else:\n",
    "    app_logger.info(\"No se encontraron valores faltantes en el conjunto de datos.\")\n",
    "\n",
    "if filas_duplicadas > 0:\n",
    "    app_logger.warning(f\"Se encontraron {filas_duplicadas} filas duplicadas en el conjunto de datos.\")\n",
    "else:\n",
    "    app_logger.info(\"No se encontraron filas duplicadas en el conjunto de datos.\")\n"
   ]
  },
  {
   "cell_type": "code",
   "execution_count": 9,
   "metadata": {},
   "outputs": [
    {
     "name": "stdout",
     "output_type": "stream",
     "text": [
      "Valores faltantes por columna en el conjunto de test:\n",
      "              Total  Porcentaje\n",
      "PoolQC         1456   99.794380\n",
      "MiscFeature    1408   96.504455\n",
      "Alley          1352   92.666210\n",
      "Fence          1169   80.123372\n",
      "FireplaceQu     730   50.034270\n",
      "LotFrontage     227   15.558602\n",
      "GarageCond       78    5.346127\n",
      "GarageYrBlt      78    5.346127\n",
      "GarageQual       78    5.346127\n",
      "GarageFinish     78    5.346127\n",
      "GarageType       76    5.209047\n",
      "BsmtCond         45    3.084304\n",
      "BsmtExposure     44    3.015764\n",
      "BsmtQual         44    3.015764\n",
      "BsmtFinType1     42    2.878684\n",
      "BsmtFinType2     42    2.878684\n",
      "MasVnrType       16    1.096642\n",
      "MasVnrArea       15    1.028101\n",
      "MSZoning          4    0.274160\n",
      "BsmtFullBath      2    0.137080\n",
      "BsmtHalfBath      2    0.137080\n",
      "Functional        2    0.137080\n",
      "Utilities         2    0.137080\n",
      "GarageCars        1    0.068540\n",
      "GarageArea        1    0.068540\n",
      "TotalBsmtSF       1    0.068540\n",
      "KitchenQual       1    0.068540\n",
      "BsmtUnfSF         1    0.068540\n",
      "BsmtFinSF2        1    0.068540\n",
      "BsmtFinSF1        1    0.068540\n",
      "Exterior2nd       1    0.068540\n",
      "Exterior1st       1    0.068540\n",
      "SaleType          1    0.068540\n",
      "\n",
      "Número de filas duplicadas en el conjunto de test: 0\n"
     ]
    }
   ],
   "source": [
    "# Valores faltantes en el conjunto de test\n",
    "print(\"Valores faltantes por columna en el conjunto de test:\")\n",
    "valores_faltantes_test = test_data.isnull().sum()\n",
    "porcentaje_faltantes_test = 100 * test_data.isnull().sum() / len(test_data)\n",
    "tabla_faltantes_test = pd.concat([valores_faltantes_test, porcentaje_faltantes_test], axis=1, keys=['Total', 'Porcentaje'])\n",
    "print(tabla_faltantes_test[tabla_faltantes_test['Total'] > 0].sort_values('Total', ascending=False))\n",
    "\n",
    "# Filas duplicadas en el conjunto de test\n",
    "filas_duplicadas_test = test_data.duplicated().sum()\n",
    "print(f\"\\nNúmero de filas duplicadas en el conjunto de test: {filas_duplicadas_test}\")\n",
    "\n",
    "# Registrar en el log para el conjunto de test\n",
    "if valores_faltantes_test.sum() > 0:\n",
    "    app_logger.info(f\"Se encontraron {valores_faltantes_test.sum()} valores faltantes en total en el conjunto de test.\")\n",
    "else:\n",
    "    app_logger.info(\"No se encontraron valores faltantes en el conjunto de test.\")\n",
    "\n",
    "if filas_duplicadas_test > 0:\n",
    "    app_logger.warning(f\"Se encontraron {filas_duplicadas_test} filas duplicadas en el conjunto de test.\")\n",
    "else:\n",
    "    app_logger.info(\"No se encontraron filas duplicadas en el conjunto de test.\")\n"
   ]
  },
  {
   "cell_type": "markdown",
   "metadata": {},
   "source": [
    "## Missing Columns on Train\n",
    "- Pool Quality Col has 99,52% missing values, but we still have Pool Area wich i think is more important than PoolQc\n",
    "- MiscFeature Col has 96.30% missing values. We also have MiscVal that represents the value of Misc Feature.\n",
    "    - Each Misc Feature has a unique value or has multiple values?? If each MiscFeature has a unique value we can drop MiscFeature and leave Misc Val because we wont lose info, otherwise, drop both.\n",
    "- Alley has 93% missing values, no other col is related to this one so we can directly drop it.\n",
    "\n",
    "## Missing Columns on Test\n",
    "- We can observe the same tendency\n"
   ]
  },
  {
   "cell_type": "markdown",
   "metadata": {},
   "source": [
    "## Verificar la relación unívoca entre MiscFeature y MiscVal"
   ]
  },
  {
   "cell_type": "code",
   "execution_count": 3,
   "metadata": {},
   "outputs": [
    {
     "name": "stdout",
     "output_type": "stream",
     "text": [
      "Relación entre MiscFeature y MiscVal:\n",
      "  MiscFeature  Valores_Unicos_MiscVal\n",
      "0        Gar2                       2\n",
      "1        Othr                       2\n",
      "2        Shed                      18\n",
      "3        TenC                       1\n",
      "\n",
      "La relación entre MiscFeature y MiscVal no es unívoca.\n",
      "\n",
      "Ejemplos de MiscFeature con múltiples valores de MiscVal:\n",
      "MiscFeature: Gar2\n",
      "Valores de MiscVal: [15500  8300]\n",
      "\n",
      "MiscFeature: Othr\n",
      "Valores de MiscVal: [3500    0]\n",
      "\n",
      "MiscFeature: Shed\n",
      "Valores de MiscVal: [ 700  350  500  400  480  450 1200  800 2000  600 1300   54  620  560\n",
      " 1400    0 1150 2500]\n",
      "\n"
     ]
    }
   ],
   "source": [
    "# Crear un DataFrame con MiscFeature y MiscVal\n",
    "misc_df = train_data[['MiscFeature', 'MiscVal']]\n",
    "\n",
    "# Agrupar por MiscFeature y contar los valores únicos de MiscVal\n",
    "relacion_misc = misc_df.groupby('MiscFeature')['MiscVal'].nunique().reset_index()\n",
    "relacion_misc.columns = ['MiscFeature', 'Valores_Unicos_MiscVal']\n",
    "\n",
    "print(\"Relación entre MiscFeature y MiscVal:\")\n",
    "print(relacion_misc)\n",
    "\n",
    "# Verificar si cada MiscFeature tiene un único valor de MiscVal\n",
    "es_univoca = (relacion_misc['Valores_Unicos_MiscVal'] == 1).all()\n",
    "\n",
    "if es_univoca:\n",
    "    print(\"\\nLa relación entre MiscFeature y MiscVal es unívoca.\")\n",
    "    app_logger.info(\"La relación entre MiscFeature y MiscVal es unívoca. Se puede considerar dejar una columna.\")\n",
    "else:\n",
    "    print(\"\\nLa relación entre MiscFeature y MiscVal no es unívoca.\")\n",
    "    app_logger.info(\"La relación entre MiscFeature y MiscVal no es unívoca. Se recomienda eliminar ambas columnas.\")\n",
    "\n",
    "# Mostrar ejemplos de MiscFeature con múltiples valores de MiscVal\n",
    "if not es_univoca:\n",
    "    print(\"\\nEjemplos de MiscFeature con múltiples valores de MiscVal:\")\n",
    "    ejemplos_multiples = relacion_misc[relacion_misc['Valores_Unicos_MiscVal'] > 1]\n",
    "    for _, row in ejemplos_multiples.iterrows():\n",
    "        feature = row['MiscFeature']\n",
    "        valores = misc_df[misc_df['MiscFeature'] == feature]['MiscVal'].unique()\n",
    "        print(f\"MiscFeature: {feature}\")\n",
    "        print(f\"Valores de MiscVal: {valores}\\n\")\n"
   ]
  },
  {
   "cell_type": "code",
   "execution_count": 4,
   "metadata": {},
   "outputs": [
    {
     "name": "stdout",
     "output_type": "stream",
     "text": [
      "Columnas eliminadas: Alley, PoolQC, MiscFeature\n",
      "\n",
      "Forma del conjunto de datos original: (1460, 81)\n",
      "Forma del conjunto de datos filtrado: (1460, 78)\n"
     ]
    }
   ],
   "source": [
    "# Filtrar columnas con más del 90% de valores faltantes\n",
    "umbral_faltantes = 0.9\n",
    "columnas_a_eliminar = tabla_faltantes[tabla_faltantes['Porcentaje'] > 90].index\n",
    "train_data_filtrado = train_data.drop(columns=columnas_a_eliminar)\n",
    "\n",
    "# Registrar en el log\n",
    "if len(columnas_a_eliminar) > 0:\n",
    "    app_logger.info(f\"Se eliminaron {len(columnas_a_eliminar)} columnas con más del 90% de valores faltantes: {', '.join(columnas_a_eliminar)}\")\n",
    "    print(f\"Columnas eliminadas: {', '.join(columnas_a_eliminar)}\")\n",
    "else:\n",
    "    app_logger.info(\"No se encontraron columnas con más del 90% de valores faltantes.\")\n",
    "    print(\"No se encontraron columnas con más del 90% de valores faltantes.\")\n",
    "\n",
    "# Mostrar la forma del nuevo conjunto de datos\n",
    "print(f\"\\nForma del conjunto de datos original: {train_data.shape}\")\n",
    "print(f\"Forma del conjunto de datos filtrado: {train_data_filtrado.shape}\")\n"
   ]
  },
  {
   "cell_type": "code",
   "execution_count": 10,
   "metadata": {},
   "outputs": [
    {
     "data": {
      "application/vnd.jupyter.widget-view+json": {
       "model_id": "074110942c8d4375ad479531073ebd3d",
       "version_major": 2,
       "version_minor": 0
      },
      "text/plain": [
       "                                             |          | [  0%]   00:00 -> (? left)"
      ]
     },
     "metadata": {},
     "output_type": "display_data"
    },
    {
     "name": "stdout",
     "output_type": "stream",
     "text": [
      "Report informe_sweetviz.html was generated! NOTEBOOK/COLAB USERS: the web browser MAY not pop up, regardless, the report IS saved in your notebook/colab files.\n",
      "Se ha generado un informe de análisis exploratorio de datos con sweetviz.\n",
      "Por favor, abra el archivo 'informe_sweetviz.html' en su navegador para ver el informe completo.\n"
     ]
    }
   ],
   "source": [
    "# Importar sweetviz\n",
    "import sweetviz as sv\n",
    "\n",
    "# Crear un informe de análisis exploratorio de datos con sweetviz\n",
    "informe = sv.analyze(train_data_filtrado)\n",
    "\n",
    "# Mostrar el informe en el navegador\n",
    "informe.show_html(\"informe_sweetviz.html\")\n",
    "\n",
    "print(\"Se ha generado un informe de análisis exploratorio de datos con sweetviz.\")\n",
    "print(\"Por favor, abra el archivo 'informe_sweetviz.html' en su navegador para ver el informe completo.\")\n",
    "\n",
    "# Registrar en el log\n",
    "app_logger.info(\"Se ha generado un informe de análisis exploratorio de datos utilizando sweetviz.\")\n"
   ]
  },
  {
   "cell_type": "code",
   "execution_count": 11,
   "metadata": {},
   "outputs": [
    {
     "data": {
      "application/vnd.jupyter.widget-view+json": {
       "model_id": "245d1b6ab34747fa942497c8b8e917bc",
       "version_major": 2,
       "version_minor": 0
      },
      "text/plain": [
       "                                             |          | [  0%]   00:00 -> (? left)"
      ]
     },
     "metadata": {},
     "output_type": "display_data"
    },
    {
     "name": "stdout",
     "output_type": "stream",
     "text": [
      "Report informe_sweetviz_target.html was generated! NOTEBOOK/COLAB USERS: the web browser MAY not pop up, regardless, the report IS saved in your notebook/colab files.\n"
     ]
    }
   ],
   "source": [
    "informe = sv.analyze(train_data_filtrado, target_feat=\"SalePrice\")\n",
    "informe.show_html(\"informe_sweetviz_target.html\")"
   ]
  },
  {
   "cell_type": "code",
   "execution_count": 12,
   "metadata": {},
   "outputs": [
    {
     "name": "stderr",
     "output_type": "stream",
     "text": [
      "2024-07-21 17:55:33,519 - INFO     - Se ha generado un análisis interactivo utilizando dtale.\n"
     ]
    },
    {
     "name": "stdout",
     "output_type": "stream",
     "text": [
      "Se ha generado un análisis interactivo con dtale.\n",
      "Por favor, acceda a la siguiente URL para explorar los datos: http://PortatilDavid:40000\n"
     ]
    }
   ],
   "source": [
    "# Importar dtale\n",
    "import dtale\n",
    "\n",
    "# Crear una instancia de dtale con los datos filtrados\n",
    "d = dtale.show(train_data_filtrado)\n",
    "\n",
    "# Mostrar el enlace para acceder a la interfaz de dtale\n",
    "print(\"Se ha generado un análisis interactivo con dtale.\")\n",
    "print(f\"Por favor, acceda a la siguiente URL para explorar los datos: {d._url}\")\n",
    "\n",
    "# Registrar en el log\n",
    "app_logger.info(\"Se ha generado un análisis interactivo utilizando dtale.\")\n"
   ]
  },
  {
   "cell_type": "markdown",
   "metadata": {},
   "source": [
    "## Cleaning \n",
    "- We have seen some Low Varianze variables, some categoricals with a few categories where just one of them was present on the dataset and some numerical variables with really low variance (this can bias the model or not matter at all when using regularization)\n",
    "- "
   ]
  },
  {
   "cell_type": "code",
   "execution_count": null,
   "metadata": {},
   "outputs": [],
   "source": []
  }
 ],
 "metadata": {
  "kernelspec": {
   "display_name": "finrl_env",
   "language": "python",
   "name": "python3"
  },
  "language_info": {
   "codemirror_mode": {
    "name": "ipython",
    "version": 3
   },
   "file_extension": ".py",
   "mimetype": "text/x-python",
   "name": "python",
   "nbconvert_exporter": "python",
   "pygments_lexer": "ipython3",
   "version": "3.8.18"
  }
 },
 "nbformat": 4,
 "nbformat_minor": 2
}
